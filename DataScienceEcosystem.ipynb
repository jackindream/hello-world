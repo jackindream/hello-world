{
 "cells": [
  {
   "cell_type": "markdown",
   "id": "2b78e3cb-ced0-4c04-8cab-b0024a2b11f2",
   "metadata": {
    "editable": true,
    "slideshow": {
     "slide_type": ""
    },
    "tags": []
   },
   "source": [
    "# H1:Data Science Tools and Ecosystem"
   ]
  },
  {
   "cell_type": "markdown",
   "id": "11a6a172-7b19-4d14-bc4c-4f40d8a0d777",
   "metadata": {},
   "source": [
    "# In this notebook, Data Science Tools and Ecosystem are summarized."
   ]
  },
  {
   "cell_type": "markdown",
   "id": "632bb9c4-2fd3-4fb4-bd15-b52c0db309e3",
   "metadata": {},
   "source": [
    "# Some of the popular languages that Data Scientists use are:\n",
    "1. python\n",
    "2. SQL\n",
    "3. R\n",
    "4. Git"
   ]
  },
  {
   "cell_type": "markdown",
   "id": "7bd0e7e1-ebb4-4bae-a8f9-198d969b1def",
   "metadata": {},
   "source": [
    "# Some of the commonly used libraries used by Data Scientists include:\n",
    "1. NumPy\n",
    "2. Pandas\n",
    "3. Matplotlib\n",
    "4. Scikit-learn\n",
    "5. TensorFlow\n",
    "6. Keras\n",
    "7. Seaborn\n",
    "8. Scipy\n",
    "9. Plotly\n",
    "10. Statsmodels"
   ]
  },
  {
   "cell_type": "markdown",
   "id": "abcafcbb-f0bf-4f0b-8613-4000c4c66f77",
   "metadata": {},
   "source": [
    "|Data Science Tools|\n",
    "|------------------|\n",
    "|Pyton|\n",
    "|SQL|\n",
    "|R|"
   ]
  },
  {
   "cell_type": "markdown",
   "id": "d4e78cf0-216c-4d97-8639-13c15161d1fd",
   "metadata": {},
   "source": [
    "### H3: Below are a few examples of evaluating arithmetic expressions in Python\n",
    "1 + 2 = 3 <br>\n",
    "5 * 4 = 20 <br>\n",
    "12 / 3 = 4"
   ]
  },
  {
   "cell_type": "code",
   "execution_count": 2,
   "id": "6a0eee00-992e-4e02-b81b-58cd93a16d57",
   "metadata": {},
   "outputs": [
    {
     "data": {
      "text/plain": [
       "17"
      ]
     },
     "execution_count": 2,
     "metadata": {},
     "output_type": "execute_result"
    }
   ],
   "source": [
    "# This a simple arithmetic expression to mutiply then add integers\n",
    "(3 * 4) + 5"
   ]
  },
  {
   "cell_type": "code",
   "execution_count": 3,
   "id": "10474768-de8b-48ec-9134-b65ba69d27da",
   "metadata": {},
   "outputs": [
    {
     "data": {
      "text/plain": [
       "3.3333333333333335"
      ]
     },
     "execution_count": 3,
     "metadata": {},
     "output_type": "execute_result"
    }
   ],
   "source": [
    "# This will convert 200 minutes to hours by diving by 60\n",
    "200 / 60"
   ]
  },
  {
   "cell_type": "markdown",
   "id": "7d412d40-3151-4981-9b65-3385d0dcd4c4",
   "metadata": {},
   "source": [
    "**Objectives:**\n",
    "- Python\n",
    "- R\n",
    "- Git\n",
    "- SQL"
   ]
  },
  {
   "cell_type": "markdown",
   "id": "6030a8b0-5151-4699-9c18-7a058c000b42",
   "metadata": {},
   "source": [
    "## Author\n",
    "# Jack"
   ]
  },
  {
   "cell_type": "code",
   "execution_count": null,
   "id": "b0a1c001-342e-4da9-b5dc-eae97c3888c6",
   "metadata": {},
   "outputs": [],
   "source": []
  }
 ],
 "metadata": {
  "kernelspec": {
   "display_name": "Python 3 (ipykernel)",
   "language": "python",
   "name": "python3"
  },
  "language_info": {
   "codemirror_mode": {
    "name": "ipython",
    "version": 3
   },
   "file_extension": ".py",
   "mimetype": "text/x-python",
   "name": "python",
   "nbconvert_exporter": "python",
   "pygments_lexer": "ipython3",
   "version": "3.12.4"
  }
 },
 "nbformat": 4,
 "nbformat_minor": 5
}
